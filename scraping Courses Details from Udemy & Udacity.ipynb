{
 "cells": [
  {
   "cell_type": "markdown",
   "metadata": {},
   "source": [
    "# Task Description : \n",
    "\n",
    "Building a “Courses Recommendation System” based on udacity and Udemy courses\n",
    "- The task will be scraped and stored\n",
    "- then generalize this data in a one collection instead of two and clean it.\n",
    "- pass this data to any default Machine learning model and get the predictions ( a pipeline for this task.)"
   ]
  },
  {
   "cell_type": "markdown",
   "metadata": {},
   "source": [
    "#  Import Libraries"
   ]
  },
  {
   "cell_type": "code",
   "execution_count": 1,
   "metadata": {},
   "outputs": [],
   "source": [
    "# !pip install scrapy\n",
    "# !pip install requests\n",
    "# !pip install beautifulsoup4\n",
    "# !pip install requests-html\n",
    "# !pip install phantomjs\n",
    "# !pip install selenium\n",
    "# !pip install webdriver-manager\n",
    "# !pip install pyudemy\n",
    "# !pip install python-decouple\n",
    "# !pip install xmltojson\n",
    "# !pip install utils"
   ]
  },
  {
   "cell_type": "code",
   "execution_count": 2,
   "metadata": {},
   "outputs": [],
   "source": [
    "# Supressing the warning messages\n",
    "import warnings\n",
    "warnings.filterwarnings('ignore')"
   ]
  },
  {
   "cell_type": "code",
   "execution_count": 88,
   "metadata": {},
   "outputs": [],
   "source": [
    "import os\n",
    "import re\n",
    "import io\n",
    "import time\n",
    "import selenium\n",
    "import requests\n",
    "import pandas as pd\n",
    "import numpy as np\n",
    "from pandas import plotting# 2: Reading the Dataset\n",
    "from pyudemy import Udemy\n",
    "from decouple import config\n",
    "from PIL import Image\n",
    "from webdriver_manager.chrome import ChromeDriverManager\n",
    "from selenium.common.exceptions import ElementClickInterceptedException\n",
    "from bs4 import BeautifulSoup\n",
    "from selenium import webdriver\n",
    "from bs4 import BeautifulSoup as bs\n",
    "from lxml import html\n",
    "from urllib.error import HTTPError\n",
    "from selenium.webdriver.common.by import By\n",
    "from selenium.webdriver.common.keys import Keys\n",
    "import matplotlib.pyplot as plt\n",
    "from sklearn import datasets, linear_model\n",
    "from sklearn.linear_model import LinearRegression\n",
    "from sklearn.metrics import mean_squared_error, r2_score\n",
    "from sklearn.model_selection import train_test_split"
   ]
  },
  {
   "cell_type": "markdown",
   "metadata": {},
   "source": [
    "## Getting Udaicty courses"
   ]
  },
  {
   "cell_type": "code",
   "execution_count": 4,
   "metadata": {},
   "outputs": [],
   "source": [
    "def Fun_getInstructor (_url):\n",
    "    try:\n",
    "        response = requests.get(_url)\n",
    "        content = response.content\n",
    "    except HTTPError as http_err:\n",
    "        print(f'HTTP error occurred: {http_err}') \n",
    "    else:\n",
    "#         print('Success!')\n",
    "        course_soup = BeautifulSoup(content, 'html.parser')\n",
    "        _instructor_list= []\n",
    "        for _instructor in course_soup.findAll('h5',class_=\"degree-instructors_instructorName__2F9E_\") :\n",
    "            _instructor_list.append (_instructor.get_text())\n",
    "        return _instructor_list"
   ]
  },
  {
   "cell_type": "code",
   "execution_count": 5,
   "metadata": {},
   "outputs": [],
   "source": [
    "def GetUdacity (url):\n",
    "    try:\n",
    "\n",
    "        #Install ChromeDriverManager Driver\n",
    "        driver = webdriver.Chrome(ChromeDriverManager().install())\n",
    "\n",
    "        #use ChromeDriverManager to fetch soup data from browser\n",
    "        driver.get(url)\n",
    "        source = driver.page_source\n",
    "        soup = bs(source,\"html.parser\")\n",
    "        driver.close()\n",
    "\n",
    "        #Get parent elemnt for each course\n",
    "        courses_soup = soup.findAll(class_=\"card_container__25DrK\")\n",
    "        list_dics = []\n",
    "\n",
    "        #Iterate parent elemnt \n",
    "        for _course in range (len(courses_soup)) :\n",
    "            _url = \"https://www.udacity.com\" + courses_soup[_course]['href']\n",
    "            _id = _url.split('--')[1].split(\"'\")[0]\n",
    "            _name = courses_soup[_course]['aria-label']\n",
    "            _level = courses_soup[_course].find(class_=\"card_level__2HNxe\").get_text()\n",
    "            _category = courses_soup[_course].find(class_=\"card_flag__2XEZl\").get_text()\n",
    "            # _price =\n",
    "            _about = courses_soup[_course].find(class_=\"card_summary__1HlQ7\").get_text()\n",
    "            _duration = courses_soup[_course].find(class_=\"card_duration__1hWII\").get_text()\n",
    "\n",
    "            #check if _skills_covered & _prerequisites are nullable values\n",
    "            try:\n",
    "                _skills_covered =courses_soup[_course].findAll(class_=\"card_details__3VdjA\")[0].find(class_ =\"card_detailContent__2eJIl\").get_text()\n",
    "            except Exception as err:\n",
    "                _skills_covered =''\n",
    "            try:\n",
    "                _prerequisites = courses_soup[_course].findAll(class_=\"card_details__3VdjA\")[0].findAll(class_ =\"card_detailContent__2eJIl\")[1].get_text()   \n",
    "            except Exception as err:\n",
    "                _prerequisites=''\n",
    "            _course_info = {\n",
    "                \"url\" : _url ,\n",
    "                \"id\" : _id ,\n",
    "                \"name\" : _name ,\n",
    "                \"level\" : _level ,\n",
    "                \"category\" : _category ,\n",
    "                \"about\" : _about ,\n",
    "                \"duration\" : _duration ,\n",
    "                \"about\" : _about ,\n",
    "                \"skills\" : _skills_covered.split(',') ,\n",
    "                \"prerequisites\" : _prerequisites,\n",
    "                \"instructors\" : Fun_getInstructor(_url),\n",
    "                \"source\": \"Udacity\"\n",
    "               }\n",
    "            #append each course item to the List of Dictionaries\n",
    "            list_dics.append(_course_info)\n",
    "    except HTTPError as http_err:\n",
    "        print(f'HTTP error occurred: {http_err}')\n",
    "    else:\n",
    "#         print('Success!')\n",
    "        return list_dics"
   ]
  },
  {
   "cell_type": "code",
   "execution_count": 8,
   "metadata": {},
   "outputs": [],
   "source": [
    "#get Data from Udacity\n",
    "url_Udacity = \"https://www.udacity.com/courses/all\"\n",
    "UdacityList = GetUdacity(url_Udacity)"
   ]
  },
  {
   "cell_type": "code",
   "execution_count": 7,
   "metadata": {},
   "outputs": [
    {
     "data": {
      "text/plain": [
       "265"
      ]
     },
     "execution_count": 7,
     "metadata": {},
     "output_type": "execute_result"
    }
   ],
   "source": [
    "len (UdacityList)"
   ]
  },
  {
   "cell_type": "code",
   "execution_count": 9,
   "metadata": {},
   "outputs": [
    {
     "data": {
      "text/plain": [
       "{'url': 'https://www.udacity.com/course/data-engineer-nanodegree--nd027',\n",
       " 'id': 'nd027',\n",
       " 'name': 'Data Engineer',\n",
       " 'level': 'intermediate',\n",
       " 'category': 'nanodegree',\n",
       " 'about': 'Data Engineering is the foundation for the new world of Big Data. Enroll now to build production-ready data infrastructure, an essential skill for advancing your data career.',\n",
       " 'duration': '5 Months',\n",
       " 'skills': ['Data Modeling',\n",
       "  ' Data Pipelines',\n",
       "  ' Data Lakes',\n",
       "  ' Spark',\n",
       "  ' Airflow'],\n",
       " 'prerequisites': 'Intermediate Python & SQL',\n",
       " 'instructors': ['Amanda Moran',\n",
       "  'Ben Goldberg',\n",
       "  'Sameh El-Ansary',\n",
       "  'Olli Iivonen',\n",
       "  'David Drummond',\n",
       "  'Judit Lantos',\n",
       "  'Juno Lee'],\n",
       " 'source': 'Udacity'}"
      ]
     },
     "execution_count": 9,
     "metadata": {},
     "output_type": "execute_result"
    }
   ],
   "source": [
    "UdacityList[0]"
   ]
  },
  {
   "cell_type": "code",
   "execution_count": 10,
   "metadata": {},
   "outputs": [],
   "source": [
    "_UdacityList = UdacityList"
   ]
  },
  {
   "cell_type": "markdown",
   "metadata": {},
   "source": [
    "There are almost 265 unique links that belong to the different courses on Udacity. \n",
    "\n",
    "Each course URL has been visited in the above code to extract the information needed. The relevent HTML tags and class names were extracted by visiting the URL, right clicking on the element of interest and selecting Inspect to view the related HTML. This has be used with the BeautifulSoup find and find_all functions to get the information."
   ]
  },
  {
   "cell_type": "markdown",
   "metadata": {},
   "source": [
    "## Getting Udemy courses"
   ]
  },
  {
   "cell_type": "markdown",
   "metadata": {},
   "source": [
    "there are 2 ways to get list of courses on Udemy : \n",
    "-  Either scrapping HTML response (Have not been used )\n",
    "-  OR using **Udemy REST API** and  <a href=\"https://udemy.app.box.com/s/uwa9onfjh6y3kousfqss72ufdit38iz8\"> it's documentaion</a>. **which is required within  <a href=\"https://drive.google.com/file/d/1quAO2A7h8F1DG_3pZWgEGTo98mr1pNaw/view?fbclid=IwAR2ysKjiD7ukDegXFcJ3VjhTrAjzN_8Y3gmPxCdAURlUeJehoqQpjSeLcuM\"> the task document </a>**\n",
    "we already created an API client. API client consists of a bearer token, which is connected to a user account on Udemy.\n"
   ]
  },
  {
   "cell_type": "code",
   "execution_count": 11,
   "metadata": {},
   "outputs": [],
   "source": [
    "client_id = 'daiolx0INQiNWo6krQ3SJboygiH5ExjVlOZZOpsR'\n",
    "client_secret = '4f7hZeHGcW34tx0D5x836JvLXYJRx2shWotK1uA4VZXIFoOpkN3EyD94b4ZL4ES80Ezq3tApZzuGaNYfgqQZX0O1czzmD5H3uaINJ16BDZTPAMTnKcZAveyy9fzrsbE8'"
   ]
  },
  {
   "cell_type": "markdown",
   "metadata": {},
   "source": [
    "### first way : scrapping HTML response"
   ]
  },
  {
   "cell_type": "code",
   "execution_count": 13,
   "metadata": {
    "scrolled": false
   },
   "outputs": [
    {
     "name": "stdout",
     "output_type": "stream",
     "text": [
      "Request status code 200\n",
      "Response content is not in JSON format.\n"
     ]
    }
   ],
   "source": [
    "import sys, json\n",
    "import base64\n",
    "import requests\n",
    "import xmltojson\n",
    "from xml.sax.saxutils import escape\n",
    "\n",
    "def main():\n",
    "    # API Authentication Parameters.\n",
    "    portal_name = 'company'\n",
    "    portal_id = '8888'\n",
    "    # base64 HTTP Header\n",
    "    auth_token = 'Basic ' + base64.b64encode(\"{}:{}\".format(client_id,client_secret).encode()).decode('ascii')\n",
    "    # Https GET Call\n",
    "    header = {'Authorization': auth_token , \"Accept\": \"application/json, text/plain, */*\" ,  \"Content-Type\": \"application/json;charset=utf-8\"}        \n",
    "    url = 'https://' + portal_name + '.udemy.com/api-2.0/organizations/' + portal_id +'/courses/list/'\n",
    "    querystring = {\"fields[courses]\": \"@all\", \"page\": \"1\", \"page_size\": \"1\"}\n",
    "    r = requests.request(\"GET\", url, headers=header, params=querystring )\n",
    "    \n",
    "    print(\"Request status code\" , r.status_code)\n",
    "#     print(r.text)\n",
    "    \n",
    "    \n",
    "    if 'json' in r.headers.get('Content-Type'):\n",
    "        js = r.json()\n",
    "        response_data = json.loads(r.text)\n",
    "        result = response_data.get('result')\n",
    "        print(r)\n",
    "    else:\n",
    "        print('Response content is not in JSON format.')\n",
    "        js = 'spam'\n",
    "        \n",
    "if __name__== \"__main__\":\n",
    "    main()"
   ]
  },
  {
   "cell_type": "markdown",
   "metadata": {},
   "source": [
    "### Second way : Udemy API"
   ]
  },
  {
   "cell_type": "markdown",
   "metadata": {},
   "source": [
    "**Discovering API and methods**"
   ]
  },
  {
   "cell_type": "code",
   "execution_count": 14,
   "metadata": {},
   "outputs": [],
   "source": [
    "udemy = Udemy(client_id,client_secret )"
   ]
  },
  {
   "cell_type": "code",
   "execution_count": 15,
   "metadata": {},
   "outputs": [
    {
     "name": "stdout",
     "output_type": "stream",
     "text": [
      "Help on method courses in module pyudemy.udemy:\n",
      "\n",
      "courses(**kwargs) method of pyudemy.udemy.Udemy instance\n",
      "    Returns list of courses.\n",
      "    \n",
      "    To see the list of accepted parameters go to:\n",
      "    https://www.udemy.com/developers/methods/get-courses-list/\n",
      "\n"
     ]
    }
   ],
   "source": [
    "help(udemy.courses)"
   ]
  },
  {
   "cell_type": "code",
   "execution_count": 16,
   "metadata": {},
   "outputs": [
    {
     "data": {
      "text/plain": [
       "{'_class': 'course',\n",
       " 'id': 14284,\n",
       " 'title': 'Powerful Business Writing #2 – How to Write in Fewer Words',\n",
       " 'url': '/course/write-less-say-more/',\n",
       " 'is_paid': True,\n",
       " 'price': '$49.99',\n",
       " 'price_detail': {'amount': 49.99,\n",
       "  'currency': 'USD',\n",
       "  'price_string': '$49.99',\n",
       "  'currency_symbol': '$'},\n",
       " 'price_serve_tracking_id': 'cHkrpNkeRSCU0bdR8Ll5-A',\n",
       " 'visible_instructors': [{'_class': 'user',\n",
       "   'title': 'Caroline McDevitt',\n",
       "   'name': 'Caroline',\n",
       "   'display_name': 'Caroline McDevitt',\n",
       "   'job_title': 'Business writer and editor',\n",
       "   'image_50x50': 'https://img-c.udemycdn.com/user/50x50/145688_fe41_2.jpg',\n",
       "   'image_100x100': 'https://img-c.udemycdn.com/user/100x100/145688_fe41_2.jpg',\n",
       "   'initials': 'CM',\n",
       "   'url': '/user/carolinejenkins2/'}],\n",
       " 'image_125_H': 'https://img-c.udemycdn.com/course/125_H/14284_6833_16.jpg',\n",
       " 'image_240x135': 'https://img-c.udemycdn.com/course/240x135/14284_6833_16.jpg',\n",
       " 'is_practice_test_course': False,\n",
       " 'image_480x270': 'https://img-c.udemycdn.com/course/480x270/14284_6833_16.jpg',\n",
       " 'published_title': 'write-less-say-more',\n",
       " 'tracking_id': 'opZ2xJzRSXWrBsB2z8T2DQ'}"
      ]
     },
     "execution_count": 16,
     "metadata": {},
     "output_type": "execute_result"
    }
   ],
   "source": [
    "#Example of course_detail within Udemy API\n",
    "udemy.course_detail(14284)"
   ]
  },
  {
   "cell_type": "code",
   "execution_count": 17,
   "metadata": {},
   "outputs": [
    {
     "name": "stdout",
     "output_type": "stream",
     "text": [
      "<class 'dict'>\n"
     ]
    }
   ],
   "source": [
    "UdemyList = udemy.courses()\n",
    "print (type (UdemyList))"
   ]
  },
  {
   "cell_type": "code",
   "execution_count": 18,
   "metadata": {},
   "outputs": [
    {
     "name": "stdout",
     "output_type": "stream",
     "text": [
      "12\n",
      "12\n"
     ]
    }
   ],
   "source": [
    "# UdemyList['results'] contains all info about courses , it's list of dictionaries\n",
    "print ( len (UdemyList['results']))\n",
    "#extrcat list of dict from 'results' into 'UdemyList'\n",
    "UdemyList = UdemyList.get('results')\n",
    "print ( len (UdemyList) )"
   ]
  },
  {
   "cell_type": "code",
   "execution_count": 19,
   "metadata": {},
   "outputs": [],
   "source": [
    "def fun_getCourseSyllabus(id):\n",
    "    details = udemy.public_curriculum(id)\n",
    "    syllabus = [] \n",
    "    for key in details.get('results'):\n",
    "            syllabus.append(key['title'])\n",
    "    return syllabus"
   ]
  },
  {
   "cell_type": "code",
   "execution_count": 20,
   "metadata": {},
   "outputs": [
    {
     "name": "stdout",
     "output_type": "stream",
     "text": [
      "11 Courses\n"
     ]
    }
   ],
   "source": [
    "#create dic of list\n",
    "UdemyListofcourses =[]\n",
    "for _course in range (len(UdemyList)-1) :\n",
    "        _url = \"https://www.udemy.com\"+ UdemyList[_course]['url']\n",
    "        _id = UdemyList[_course]['id']\n",
    "        try:\n",
    "            _name = UdemyList[_course]['title']\n",
    "        except:\n",
    "            _name = UdemyList[_course]['title'] ='No title'\n",
    "        _category = UdemyList[_course]['_class']\n",
    "        _price =UdemyList[_course]['price']\n",
    "        _instructors = []\n",
    "        _instructors.append( UdemyList[_course]['visible_instructors'][0].get('display_name'))\n",
    "        _about = UdemyList[_course]['headline']\n",
    "        _course_info = {\n",
    "            \"url\" : _url ,\n",
    "            \"id\" : _id ,\n",
    "            \"name\" : _name ,\n",
    "            \"category\" : _category ,\n",
    "            \"about\" : _about ,\n",
    "            \"price\" : _price,\n",
    "            \"description\" : _about ,\n",
    "            \"instructors\" : _instructors,\n",
    "            \"Syllabus\" : fun_getCourseSyllabus(_id),\n",
    "            \"source\": \"Udemy\"\n",
    "           }\n",
    "        #append each course item to the List of Dictionaries\n",
    "        UdemyListofcourses.append(_course_info)\n",
    "print (len(UdemyListofcourses), 'Courses')"
   ]
  },
  {
   "cell_type": "markdown",
   "metadata": {},
   "source": [
    "## Generalizling the data\n",
    "\n",
    "concatenate the two collections in the most suitable form"
   ]
  },
  {
   "cell_type": "code",
   "execution_count": 50,
   "metadata": {},
   "outputs": [
    {
     "name": "stdout",
     "output_type": "stream",
     "text": [
      "Udacity courses=  320\n",
      "Udemy courses=  11\n"
     ]
    }
   ],
   "source": [
    "print ('Udacity courses= '  , len (UdacityList) )\n",
    "print ('Udemy courses= ' ,len (UdemyListofcourses))"
   ]
  },
  {
   "cell_type": "code",
   "execution_count": 51,
   "metadata": {},
   "outputs": [],
   "source": [
    "#add UdacityList to all_courses\n",
    "allCourses = []\n",
    "allCourses = UdacityList"
   ]
  },
  {
   "cell_type": "code",
   "execution_count": 52,
   "metadata": {},
   "outputs": [
    {
     "name": "stdout",
     "output_type": "stream",
     "text": [
      "331 courses\n"
     ]
    }
   ],
   "source": [
    "#add UdemyList to all_courses\n",
    "for _course in UdemyListofcourses :\n",
    "    allCourses.append(_course)\n",
    "    \n",
    "print(len(allCourses) , 'courses')"
   ]
  },
  {
   "cell_type": "markdown",
   "metadata": {
    "papermill": {
     "duration": 0.010591,
     "end_time": "2021-06-04T18:20:08.592081",
     "exception": false,
     "start_time": "2021-06-04T18:20:08.58149",
     "status": "completed"
    },
    "tags": []
   },
   "source": [
    "## Exploratory Data Analysis\n",
    "In this step, one should load the data and analyze it. \n",
    "Let's load the data using `pandas` and have a look at the generated `DataFrame`.\n",
    "- first step , will be loading all_courses into a pandas dataframe \n",
    "- econd step will be cleanning the data if it have some tages like the ones in \"description\", in period “the final collection\n",
    "should have the same values as above and it should be clean or preprocessed ”"
   ]
  },
  {
   "cell_type": "code",
   "execution_count": 54,
   "metadata": {},
   "outputs": [],
   "source": [
    "df = pd.DataFrame(allCourses)"
   ]
  },
  {
   "cell_type": "code",
   "execution_count": 26,
   "metadata": {},
   "outputs": [
    {
     "data": {
      "text/html": [
       "<div>\n",
       "<style scoped>\n",
       "    .dataframe tbody tr th:only-of-type {\n",
       "        vertical-align: middle;\n",
       "    }\n",
       "\n",
       "    .dataframe tbody tr th {\n",
       "        vertical-align: top;\n",
       "    }\n",
       "\n",
       "    .dataframe thead th {\n",
       "        text-align: right;\n",
       "    }\n",
       "</style>\n",
       "<table border=\"1\" class=\"dataframe\">\n",
       "  <thead>\n",
       "    <tr style=\"text-align: right;\">\n",
       "      <th></th>\n",
       "      <th>url</th>\n",
       "      <th>id</th>\n",
       "      <th>name</th>\n",
       "      <th>level</th>\n",
       "      <th>category</th>\n",
       "      <th>about</th>\n",
       "      <th>duration</th>\n",
       "      <th>skills</th>\n",
       "      <th>prerequisites</th>\n",
       "      <th>instructors</th>\n",
       "      <th>source</th>\n",
       "      <th>price</th>\n",
       "      <th>description</th>\n",
       "      <th>Syllabus</th>\n",
       "    </tr>\n",
       "  </thead>\n",
       "  <tbody>\n",
       "    <tr>\n",
       "      <th>0</th>\n",
       "      <td>https://www.udacity.com/course/data-engineer-n...</td>\n",
       "      <td>nd027</td>\n",
       "      <td>Data Engineer</td>\n",
       "      <td>intermediate</td>\n",
       "      <td>nanodegree</td>\n",
       "      <td>Data Engineering is the foundation for the new...</td>\n",
       "      <td>5 Months</td>\n",
       "      <td>[Data Modeling,  Data Pipelines,  Data Lakes, ...</td>\n",
       "      <td>Intermediate Python &amp; SQL</td>\n",
       "      <td>[Amanda Moran, Ben Goldberg, Sameh El-Ansary, ...</td>\n",
       "      <td>Udacity</td>\n",
       "      <td>NaN</td>\n",
       "      <td>NaN</td>\n",
       "      <td>NaN</td>\n",
       "    </tr>\n",
       "    <tr>\n",
       "      <th>1</th>\n",
       "      <td>https://www.udacity.com/course/data-analyst-na...</td>\n",
       "      <td>nd002</td>\n",
       "      <td>Data Analyst</td>\n",
       "      <td>intermediate</td>\n",
       "      <td>nanodegree</td>\n",
       "      <td>Use Python, SQL, and statistics to uncover ins...</td>\n",
       "      <td>4 Months</td>\n",
       "      <td>[Data Wrangling,  Matplotlib,  Bootstrapping, ...</td>\n",
       "      <td>Python &amp; SQL</td>\n",
       "      <td>[Josh Bernhard , Sebastian Thrun, Derek Steer,...</td>\n",
       "      <td>Udacity</td>\n",
       "      <td>NaN</td>\n",
       "      <td>NaN</td>\n",
       "      <td>NaN</td>\n",
       "    </tr>\n",
       "    <tr>\n",
       "      <th>2</th>\n",
       "      <td>https://www.udacity.com/course/product-manager...</td>\n",
       "      <td>nd036</td>\n",
       "      <td>Product Manager</td>\n",
       "      <td>beginner</td>\n",
       "      <td>nanodegree</td>\n",
       "      <td>Envision and execute the development of indust...</td>\n",
       "      <td>4 Months</td>\n",
       "      <td>[Product Strategy,  Product Design,  Product D...</td>\n",
       "      <td>No Experience Required</td>\n",
       "      <td>[Anastasia Root, Alex King, Yuva Murugan]</td>\n",
       "      <td>Udacity</td>\n",
       "      <td>NaN</td>\n",
       "      <td>NaN</td>\n",
       "      <td>NaN</td>\n",
       "    </tr>\n",
       "  </tbody>\n",
       "</table>\n",
       "</div>"
      ],
      "text/plain": [
       "                                                 url     id             name  \\\n",
       "0  https://www.udacity.com/course/data-engineer-n...  nd027    Data Engineer   \n",
       "1  https://www.udacity.com/course/data-analyst-na...  nd002     Data Analyst   \n",
       "2  https://www.udacity.com/course/product-manager...  nd036  Product Manager   \n",
       "\n",
       "          level    category  \\\n",
       "0  intermediate  nanodegree   \n",
       "1  intermediate  nanodegree   \n",
       "2      beginner  nanodegree   \n",
       "\n",
       "                                               about  duration  \\\n",
       "0  Data Engineering is the foundation for the new...  5 Months   \n",
       "1  Use Python, SQL, and statistics to uncover ins...  4 Months   \n",
       "2  Envision and execute the development of indust...  4 Months   \n",
       "\n",
       "                                              skills  \\\n",
       "0  [Data Modeling,  Data Pipelines,  Data Lakes, ...   \n",
       "1  [Data Wrangling,  Matplotlib,  Bootstrapping, ...   \n",
       "2  [Product Strategy,  Product Design,  Product D...   \n",
       "\n",
       "               prerequisites  \\\n",
       "0  Intermediate Python & SQL   \n",
       "1               Python & SQL   \n",
       "2     No Experience Required   \n",
       "\n",
       "                                         instructors   source price  \\\n",
       "0  [Amanda Moran, Ben Goldberg, Sameh El-Ansary, ...  Udacity   NaN   \n",
       "1  [Josh Bernhard , Sebastian Thrun, Derek Steer,...  Udacity   NaN   \n",
       "2          [Anastasia Root, Alex King, Yuva Murugan]  Udacity   NaN   \n",
       "\n",
       "  description Syllabus  \n",
       "0         NaN      NaN  \n",
       "1         NaN      NaN  \n",
       "2         NaN      NaN  "
      ]
     },
     "execution_count": 26,
     "metadata": {},
     "output_type": "execute_result"
    }
   ],
   "source": [
    "#sample of Udacity courses\n",
    "df.head(3)"
   ]
  },
  {
   "cell_type": "code",
   "execution_count": 27,
   "metadata": {
    "scrolled": true
   },
   "outputs": [
    {
     "data": {
      "text/html": [
       "<div>\n",
       "<style scoped>\n",
       "    .dataframe tbody tr th:only-of-type {\n",
       "        vertical-align: middle;\n",
       "    }\n",
       "\n",
       "    .dataframe tbody tr th {\n",
       "        vertical-align: top;\n",
       "    }\n",
       "\n",
       "    .dataframe thead th {\n",
       "        text-align: right;\n",
       "    }\n",
       "</style>\n",
       "<table border=\"1\" class=\"dataframe\">\n",
       "  <thead>\n",
       "    <tr style=\"text-align: right;\">\n",
       "      <th></th>\n",
       "      <th>url</th>\n",
       "      <th>id</th>\n",
       "      <th>name</th>\n",
       "      <th>level</th>\n",
       "      <th>category</th>\n",
       "      <th>about</th>\n",
       "      <th>duration</th>\n",
       "      <th>skills</th>\n",
       "      <th>prerequisites</th>\n",
       "      <th>instructors</th>\n",
       "      <th>source</th>\n",
       "      <th>price</th>\n",
       "      <th>description</th>\n",
       "      <th>Syllabus</th>\n",
       "    </tr>\n",
       "  </thead>\n",
       "  <tbody>\n",
       "    <tr>\n",
       "      <th>273</th>\n",
       "      <td>https://www.udemy.com/course/wordpress-mastery/</td>\n",
       "      <td>14727</td>\n",
       "      <td>WordPress Essentials</td>\n",
       "      <td>NaN</td>\n",
       "      <td>course</td>\n",
       "      <td>Learn WordPress basics, tips and tricks to run...</td>\n",
       "      <td>NaN</td>\n",
       "      <td>NaN</td>\n",
       "      <td>NaN</td>\n",
       "      <td>[Stone River eLearning]</td>\n",
       "      <td>Udemy</td>\n",
       "      <td>$49.99</td>\n",
       "      <td>Learn WordPress basics, tips and tricks to run...</td>\n",
       "      <td>[Welcome to WordPress Mastery!, Ready for Some...</td>\n",
       "    </tr>\n",
       "    <tr>\n",
       "      <th>274</th>\n",
       "      <td>https://www.udemy.com/course/plein-air-paintin...</td>\n",
       "      <td>15574</td>\n",
       "      <td>Plein Air Essentials - Learn Basics of Plein A...</td>\n",
       "      <td>NaN</td>\n",
       "      <td>course</td>\n",
       "      <td>Learn the essentials of plein air painting in ...</td>\n",
       "      <td>NaN</td>\n",
       "      <td>NaN</td>\n",
       "      <td>NaN</td>\n",
       "      <td>[Michael Chesley Johnson AIS PSA MPAC]</td>\n",
       "      <td>Udemy</td>\n",
       "      <td>$19.99</td>\n",
       "      <td>Learn the essentials of plein air painting in ...</td>\n",
       "      <td>[Introduction, Introduction, Manual, Equipment...</td>\n",
       "    </tr>\n",
       "    <tr>\n",
       "      <th>275</th>\n",
       "      <td>https://www.udemy.com/course/building-your-pla...</td>\n",
       "      <td>14219</td>\n",
       "      <td>Building Your Platform</td>\n",
       "      <td>NaN</td>\n",
       "      <td>course</td>\n",
       "      <td>What Businesses of All Sizes and Types Can Lea...</td>\n",
       "      <td>NaN</td>\n",
       "      <td>NaN</td>\n",
       "      <td>NaN</td>\n",
       "      <td>[Phil Simon]</td>\n",
       "      <td>Udemy</td>\n",
       "      <td>$49.99</td>\n",
       "      <td>What Businesses of All Sizes and Types Can Lea...</td>\n",
       "      <td>[Course, The Age of the Platform in Three Minu...</td>\n",
       "    </tr>\n",
       "  </tbody>\n",
       "</table>\n",
       "</div>"
      ],
      "text/plain": [
       "                                                   url     id  \\\n",
       "273    https://www.udemy.com/course/wordpress-mastery/  14727   \n",
       "274  https://www.udemy.com/course/plein-air-paintin...  15574   \n",
       "275  https://www.udemy.com/course/building-your-pla...  14219   \n",
       "\n",
       "                                                  name level category  \\\n",
       "273                               WordPress Essentials   NaN   course   \n",
       "274  Plein Air Essentials - Learn Basics of Plein A...   NaN   course   \n",
       "275                             Building Your Platform   NaN   course   \n",
       "\n",
       "                                                 about duration skills  \\\n",
       "273  Learn WordPress basics, tips and tricks to run...      NaN    NaN   \n",
       "274  Learn the essentials of plein air painting in ...      NaN    NaN   \n",
       "275  What Businesses of All Sizes and Types Can Lea...      NaN    NaN   \n",
       "\n",
       "    prerequisites                             instructors source   price  \\\n",
       "273           NaN                 [Stone River eLearning]  Udemy  $49.99   \n",
       "274           NaN  [Michael Chesley Johnson AIS PSA MPAC]  Udemy  $19.99   \n",
       "275           NaN                            [Phil Simon]  Udemy  $49.99   \n",
       "\n",
       "                                           description  \\\n",
       "273  Learn WordPress basics, tips and tricks to run...   \n",
       "274  Learn the essentials of plein air painting in ...   \n",
       "275  What Businesses of All Sizes and Types Can Lea...   \n",
       "\n",
       "                                              Syllabus  \n",
       "273  [Welcome to WordPress Mastery!, Ready for Some...  \n",
       "274  [Introduction, Introduction, Manual, Equipment...  \n",
       "275  [Course, The Age of the Platform in Three Minu...  "
      ]
     },
     "execution_count": 27,
     "metadata": {},
     "output_type": "execute_result"
    }
   ],
   "source": [
    "#sample of Udemy courses\n",
    "df.tail(3)"
   ]
  },
  {
   "cell_type": "code",
   "execution_count": 31,
   "metadata": {},
   "outputs": [
    {
     "name": "stdout",
     "output_type": "stream",
     "text": [
      "<class 'pandas.core.frame.DataFrame'>\n",
      "RangeIndex: 276 entries, 0 to 275\n",
      "Data columns (total 14 columns):\n",
      " #   Column         Non-Null Count  Dtype \n",
      "---  ------         --------------  ----- \n",
      " 0   url            276 non-null    object\n",
      " 1   id             276 non-null    object\n",
      " 2   name           276 non-null    object\n",
      " 3   level          265 non-null    object\n",
      " 4   category       276 non-null    object\n",
      " 5   about          276 non-null    object\n",
      " 6   duration       265 non-null    object\n",
      " 7   skills         265 non-null    object\n",
      " 8   prerequisites  265 non-null    object\n",
      " 9   instructors    276 non-null    object\n",
      " 10  source         276 non-null    object\n",
      " 11  price          11 non-null     object\n",
      " 12  description    11 non-null     object\n",
      " 13  Syllabus       11 non-null     object\n",
      "dtypes: object(14)\n",
      "memory usage: 30.3+ KB\n"
     ]
    }
   ],
   "source": [
    "df.info()"
   ]
  },
  {
   "cell_type": "code",
   "execution_count": 32,
   "metadata": {},
   "outputs": [
    {
     "data": {
      "text/plain": [
       "Index(['url', 'id', 'name', 'level', 'category', 'about', 'duration', 'skills',\n",
       "       'prerequisites', 'instructors', 'source', 'price', 'description',\n",
       "       'Syllabus'],\n",
       "      dtype='object')"
      ]
     },
     "execution_count": 32,
     "metadata": {},
     "output_type": "execute_result"
    }
   ],
   "source": [
    "df.columns"
   ]
  },
  {
   "cell_type": "code",
   "execution_count": 33,
   "metadata": {},
   "outputs": [
    {
     "data": {
      "text/html": [
       "<div>\n",
       "<style scoped>\n",
       "    .dataframe tbody tr th:only-of-type {\n",
       "        vertical-align: middle;\n",
       "    }\n",
       "\n",
       "    .dataframe tbody tr th {\n",
       "        vertical-align: top;\n",
       "    }\n",
       "\n",
       "    .dataframe thead th {\n",
       "        text-align: right;\n",
       "    }\n",
       "</style>\n",
       "<table border=\"1\" class=\"dataframe\">\n",
       "  <thead>\n",
       "    <tr style=\"text-align: right;\">\n",
       "      <th></th>\n",
       "      <th>count</th>\n",
       "      <th>unique</th>\n",
       "      <th>top</th>\n",
       "      <th>freq</th>\n",
       "    </tr>\n",
       "  </thead>\n",
       "  <tbody>\n",
       "    <tr>\n",
       "      <th>url</th>\n",
       "      <td>276</td>\n",
       "      <td>276</td>\n",
       "      <td>https://www.udacity.com/course/ios-interview-p...</td>\n",
       "      <td>1</td>\n",
       "    </tr>\n",
       "    <tr>\n",
       "      <th>id</th>\n",
       "      <td>276</td>\n",
       "      <td>276</td>\n",
       "      <td>ud884</td>\n",
       "      <td>1</td>\n",
       "    </tr>\n",
       "    <tr>\n",
       "      <th>name</th>\n",
       "      <td>276</td>\n",
       "      <td>275</td>\n",
       "      <td>Artificial Intelligence</td>\n",
       "      <td>2</td>\n",
       "    </tr>\n",
       "    <tr>\n",
       "      <th>level</th>\n",
       "      <td>265</td>\n",
       "      <td>4</td>\n",
       "      <td>intermediate</td>\n",
       "      <td>151</td>\n",
       "    </tr>\n",
       "    <tr>\n",
       "      <th>category</th>\n",
       "      <td>276</td>\n",
       "      <td>3</td>\n",
       "      <td>free</td>\n",
       "      <td>194</td>\n",
       "    </tr>\n",
       "    <tr>\n",
       "      <th>about</th>\n",
       "      <td>276</td>\n",
       "      <td>267</td>\n",
       "      <td></td>\n",
       "      <td>6</td>\n",
       "    </tr>\n",
       "    <tr>\n",
       "      <th>duration</th>\n",
       "      <td>265</td>\n",
       "      <td>26</td>\n",
       "      <td>4 Months</td>\n",
       "      <td>39</td>\n",
       "    </tr>\n",
       "    <tr>\n",
       "      <th>skills</th>\n",
       "      <td>265</td>\n",
       "      <td>247</td>\n",
       "      <td>[]</td>\n",
       "      <td>13</td>\n",
       "    </tr>\n",
       "    <tr>\n",
       "      <th>prerequisites</th>\n",
       "      <td>265</td>\n",
       "      <td>58</td>\n",
       "      <td></td>\n",
       "      <td>194</td>\n",
       "    </tr>\n",
       "    <tr>\n",
       "      <th>instructors</th>\n",
       "      <td>276</td>\n",
       "      <td>80</td>\n",
       "      <td>[]</td>\n",
       "      <td>195</td>\n",
       "    </tr>\n",
       "    <tr>\n",
       "      <th>source</th>\n",
       "      <td>276</td>\n",
       "      <td>2</td>\n",
       "      <td>Udacity</td>\n",
       "      <td>265</td>\n",
       "    </tr>\n",
       "    <tr>\n",
       "      <th>price</th>\n",
       "      <td>11</td>\n",
       "      <td>6</td>\n",
       "      <td>$49.99</td>\n",
       "      <td>4</td>\n",
       "    </tr>\n",
       "    <tr>\n",
       "      <th>description</th>\n",
       "      <td>11</td>\n",
       "      <td>11</td>\n",
       "      <td>Learn WordPress basics, tips and tricks to run...</td>\n",
       "      <td>1</td>\n",
       "    </tr>\n",
       "    <tr>\n",
       "      <th>Syllabus</th>\n",
       "      <td>11</td>\n",
       "      <td>11</td>\n",
       "      <td>[CCNP ROUTE 300-101:  A Brief And Painless (Mo...</td>\n",
       "      <td>1</td>\n",
       "    </tr>\n",
       "  </tbody>\n",
       "</table>\n",
       "</div>"
      ],
      "text/plain": [
       "              count unique                                                top  \\\n",
       "url             276    276  https://www.udacity.com/course/ios-interview-p...   \n",
       "id              276    276                                              ud884   \n",
       "name            276    275                            Artificial Intelligence   \n",
       "level           265      4                                       intermediate   \n",
       "category        276      3                                               free   \n",
       "about           276    267                                                      \n",
       "duration        265     26                                           4 Months   \n",
       "skills          265    247                                                 []   \n",
       "prerequisites   265     58                                                      \n",
       "instructors     276     80                                                 []   \n",
       "source          276      2                                            Udacity   \n",
       "price            11      6                                             $49.99   \n",
       "description      11     11  Learn WordPress basics, tips and tricks to run...   \n",
       "Syllabus         11     11  [CCNP ROUTE 300-101:  A Brief And Painless (Mo...   \n",
       "\n",
       "              freq  \n",
       "url              1  \n",
       "id               1  \n",
       "name             2  \n",
       "level          151  \n",
       "category       194  \n",
       "about            6  \n",
       "duration        39  \n",
       "skills          13  \n",
       "prerequisites  194  \n",
       "instructors    195  \n",
       "source         265  \n",
       "price            4  \n",
       "description      1  \n",
       "Syllabus         1  "
      ]
     },
     "execution_count": 33,
     "metadata": {},
     "output_type": "execute_result"
    }
   ],
   "source": [
    "df.describe().T"
   ]
  },
  {
   "cell_type": "code",
   "execution_count": 34,
   "metadata": {},
   "outputs": [
    {
     "data": {
      "text/plain": [
       "url              object\n",
       "id               object\n",
       "name             object\n",
       "level            object\n",
       "category         object\n",
       "about            object\n",
       "duration         object\n",
       "skills           object\n",
       "prerequisites    object\n",
       "instructors      object\n",
       "source           object\n",
       "price            object\n",
       "description      object\n",
       "Syllabus         object\n",
       "dtype: object"
      ]
     },
     "execution_count": 34,
     "metadata": {},
     "output_type": "execute_result"
    }
   ],
   "source": [
    "df.dtypes"
   ]
  },
  {
   "cell_type": "markdown",
   "metadata": {},
   "source": [
    "### Handling missing values"
   ]
  },
  {
   "cell_type": "code",
   "execution_count": 36,
   "metadata": {},
   "outputs": [
    {
     "data": {
      "text/plain": [
       "url                0\n",
       "id                 0\n",
       "name               0\n",
       "level             11\n",
       "category           0\n",
       "about              0\n",
       "duration          11\n",
       "skills            11\n",
       "prerequisites     11\n",
       "instructors        0\n",
       "source             0\n",
       "price            265\n",
       "description      265\n",
       "Syllabus         265\n",
       "dtype: int64"
      ]
     },
     "execution_count": 36,
     "metadata": {},
     "output_type": "execute_result"
    }
   ],
   "source": [
    "#Looking out for missing values and handling them\n",
    "df.isnull().sum()"
   ]
  },
  {
   "cell_type": "code",
   "execution_count": 92,
   "metadata": {},
   "outputs": [
    {
     "data": {
      "text/plain": [
       "0       0.00\n",
       "1       0.00\n",
       "2       0.00\n",
       "3       0.00\n",
       "4       0.00\n",
       "       ...  \n",
       "326    19.99\n",
       "327    49.99\n",
       "328    49.99\n",
       "329    19.99\n",
       "330    49.99\n",
       "Name: price, Length: 331, dtype: float64"
      ]
     },
     "execution_count": 92,
     "metadata": {},
     "output_type": "execute_result"
    }
   ],
   "source": [
    "df['price'] = df['price'].replace('[\\$,]', '', regex=True).astype(float)\n",
    "df['price'].replace(np.nan, 0)"
   ]
  },
  {
   "cell_type": "code",
   "execution_count": 84,
   "metadata": {},
   "outputs": [
    {
     "data": {
      "text/plain": [
       "0    5.0\n",
       "1    4.0\n",
       "2    4.0\n",
       "Name: duration, dtype: float64"
      ]
     },
     "execution_count": 84,
     "metadata": {},
     "output_type": "execute_result"
    }
   ],
   "source": [
    "df['duration'] = df['duration'].str.replace('Months', '')\n",
    "df['duration'] = df['duration'].str.replace('Hours', '')\n",
    "df['duration'] = df['duration'].str.replace('Month', '')\n",
    "df['duration'] = df['duration'].str.replace('Weeks', '')\n",
    "df['duration'] = df['duration'].str.replace('Week', '')\n",
    "df['duration'] = df['duration'].str.replace('Hour', '')\n",
    "df['duration'] = pd.to_numeric(df['duration'],errors='coerce')\n",
    "df['duration'].head(3)"
   ]
  },
  {
   "cell_type": "markdown",
   "metadata": {
    "papermill": {
     "duration": 0.011808,
     "end_time": "2021-06-04T18:20:08.89742",
     "exception": false,
     "start_time": "2021-06-04T18:20:08.885612",
     "status": "completed"
    },
    "tags": []
   },
   "source": [
    "## Data Splitting\n",
    "\n",
    "Now it's time to split the dataset for the training step. Typically the dataset is split into 3 subsets, namely, the training, validation and test sets. In our case, the test set will be **Udacity Courses** as thier prices are hidden with Udacity and cant be scarpping . So we'll split the \"training\" set into training and validation sets with 0.8:0.2 ratio. \n"
   ]
  },
  {
   "cell_type": "code",
   "execution_count": 55,
   "metadata": {},
   "outputs": [
    {
     "data": {
      "text/plain": [
       "Index(['url', 'name', 'level', 'category', 'about', 'duration', 'skills',\n",
       "       'prerequisites', 'instructors', 'source', 'price', 'description',\n",
       "       'Syllabus'],\n",
       "      dtype='object')"
      ]
     },
     "execution_count": 55,
     "metadata": {},
     "output_type": "execute_result"
    }
   ],
   "source": [
    "df = df.drop(columns = ['id'])\n",
    "df.columns"
   ]
  },
  {
   "cell_type": "code",
   "execution_count": 95,
   "metadata": {},
   "outputs": [],
   "source": [
    "X = df[['name','level','category','duration' ,'source' ]]\n",
    "y =df['price']"
   ]
  },
  {
   "cell_type": "code",
   "execution_count": 96,
   "metadata": {},
   "outputs": [],
   "source": [
    "X = pd.get_dummies(data=X, drop_first=True)"
   ]
  },
  {
   "cell_type": "code",
   "execution_count": 106,
   "metadata": {},
   "outputs": [
    {
     "data": {
      "text/plain": [
       "0       0.00\n",
       "1       0.00\n",
       "2       0.00\n",
       "3       0.00\n",
       "4       0.00\n",
       "       ...  \n",
       "326    19.99\n",
       "327    49.99\n",
       "328    49.99\n",
       "329    19.99\n",
       "330    49.99\n",
       "Name: price, Length: 331, dtype: float64"
      ]
     },
     "execution_count": 106,
     "metadata": {},
     "output_type": "execute_result"
    }
   ],
   "source": [
    "X.replace(np.nan, 0)"
   ]
  },
  {
   "cell_type": "code",
   "execution_count": 107,
   "metadata": {},
   "outputs": [],
   "source": [
    "X_train, X_test, Y_train, Y_test = train_test_split(X, y, test_size = .20, random_state = 40)"
   ]
  },
  {
   "cell_type": "markdown",
   "metadata": {
    "papermill": {
     "duration": 0.013313,
     "end_time": "2021-06-04T18:20:10.060544",
     "exception": false,
     "start_time": "2021-06-04T18:20:10.047231",
     "status": "completed"
    },
    "tags": []
   },
   "source": [
    "## Model Training\n",
    "\n",
    "Let's train a model with the data! We'll train a Random Forest Classifier to demonstrate the process of making submissions. "
   ]
  },
  {
   "cell_type": "code",
   "execution_count": 109,
   "metadata": {},
   "outputs": [],
   "source": [
    "# Create an instance of the model\n",
    "model = LinearRegression()\n",
    " \n",
    "# Train the model\n",
    "model.fit(X_train, Y_train)\n",
    "predicted = model.predict(X_test)\n",
    "predicted"
   ]
  },
  {
   "cell_type": "code",
   "execution_count": null,
   "metadata": {},
   "outputs": [],
   "source": [
    "print(\"The accuracy of the model on the validation set is \", (classifier.score(X_val, y_val)))"
   ]
  },
  {
   "cell_type": "markdown",
   "metadata": {},
   "source": [
    "## Model Prediction"
   ]
  },
  {
   "cell_type": "code",
   "execution_count": null,
   "metadata": {},
   "outputs": [],
   "source": [
    "y_test_predicted = model.predict(X_test)\n",
    "\n",
    "test_df['price'] = y_test_predicted\n",
    "\n",
    "test_df.head()"
   ]
  }
 ],
 "metadata": {
  "kernelspec": {
   "display_name": "Python 3",
   "language": "python",
   "name": "python3"
  },
  "language_info": {
   "codemirror_mode": {
    "name": "ipython",
    "version": 3
   },
   "file_extension": ".py",
   "mimetype": "text/x-python",
   "name": "python",
   "nbconvert_exporter": "python",
   "pygments_lexer": "ipython3",
   "version": "3.8.5"
  }
 },
 "nbformat": 4,
 "nbformat_minor": 4
}
